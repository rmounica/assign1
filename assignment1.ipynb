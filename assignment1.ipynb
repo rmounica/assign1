{
  "nbformat": 4,
  "nbformat_minor": 0,
  "metadata": {
    "colab": {
      "provenance": [],
      "authorship_tag": "ABX9TyPSE6g63Ffn334xbP/DgK8h",
      "include_colab_link": true
    },
    "kernelspec": {
      "name": "python3",
      "display_name": "Python 3"
    },
    "language_info": {
      "name": "python"
    }
  },
  "cells": [
    {
      "cell_type": "markdown",
      "metadata": {
        "id": "view-in-github",
        "colab_type": "text"
      },
      "source": [
        "<a href=\"https://colab.research.google.com/github/rmounica/assign1/blob/main/assignment1.ipynb\" target=\"_parent\"><img src=\"https://colab.research.google.com/assets/colab-badge.svg\" alt=\"Open In Colab\"/></a>"
      ]
    },
    {
      "cell_type": "code",
      "execution_count": 1,
      "metadata": {
        "colab": {
          "base_uri": "https://localhost:8080/"
        },
        "id": "doApkG9XBIfp",
        "outputId": "f216dd2e-28a5-4a16-d649-a2349b696b31"
      },
      "outputs": [
        {
          "output_type": "stream",
          "name": "stdout",
          "text": [
            "Enter the string: python\n",
            "Sample output:\n",
            "noht\n"
          ]
        }
      ],
      "source": [
        "#PROGRAM 1\n",
        "# Input the string \"Python\"\n",
        "ip = list(input(\"Enter the string: \"))\n",
        "\n",
        "# Deleting at least 2 characters\n",
        "if len(ip) >= 2:\n",
        "    del ip[:2]\n",
        "\n",
        "# Reverse the obtained string\n",
        "resultant_string = ip[::-1]\n",
        "\n",
        "# Print the final reversed string\n",
        "print(\"Sample output:\")\n",
        "print(\"\".join(resultant_string))\n"
      ]
    },
    {
      "cell_type": "code",
      "source": [
        "#PROGRAM 2\n",
        "# Taking two numbers from the user\n",
        "n1 = int(input(\"First number: \"))\n",
        "n2 = int(input(\"Second number: \"))\n",
        "\n",
        "# Performing arithmetic operations\n",
        "add_result = n1 + n2\n",
        "sub_result = n1 - n2\n",
        "multi_result = n1 * n2\n",
        "div_result = n1 / n2\n",
        "\n",
        "# Print the results of arithmetic operations\n",
        "print(\"Arithmetic Operations:\")\n",
        "print(f\"Addition: {add_result}\")\n",
        "print(f\"Subtraction: {sub_result}\")\n",
        "print(f\"Multiplication: {multi_result}\")\n",
        "print(f\"Division: {div_result}\")\n"
      ],
      "metadata": {
        "colab": {
          "base_uri": "https://localhost:8080/"
        },
        "id": "tyvvh753B5iQ",
        "outputId": "a65f2295-3ec6-4489-8852-dd16cb5936ec"
      },
      "execution_count": 2,
      "outputs": [
        {
          "output_type": "stream",
          "name": "stdout",
          "text": [
            "First number: 10\n",
            "Second number: 20\n",
            "Arithmetic Operations:\n",
            "Addition: 30\n",
            "Subtraction: -10\n",
            "Multiplication: 200\n",
            "Division: 0.5\n"
          ]
        }
      ]
    },
    {
      "cell_type": "code",
      "source": [
        "#PROGRAM 3\n",
        "# Taking a sentence from the user\n",
        "inp_sentence = input(\"Enter a sentence: \")\n",
        "\n",
        "# Replacing each occurrence of 'python' with 'pythons'\n",
        "op_sentence = inp_sentence.replace('python', 'pythons')\n",
        "\n",
        "# Print the modified sentence\n",
        "print(\"Sample output:\")\n",
        "print(op_sentence)"
      ],
      "metadata": {
        "colab": {
          "base_uri": "https://localhost:8080/"
        },
        "id": "pMR6LXKvCBFX",
        "outputId": "11585e58-0fe4-445a-bb99-c113841fbe05"
      },
      "execution_count": 5,
      "outputs": [
        {
          "output_type": "stream",
          "name": "stdout",
          "text": [
            "Enter a sentence: I like python\n",
            "Sample output:\n",
            "I like pythons\n"
          ]
        }
      ]
    },
    {
      "cell_type": "code",
      "source": [
        "#PROGRAM 4\n",
        "# Take the class score from the user\n",
        "cls_score = float(input(\"Enter class score: \"))\n",
        "\n",
        "# Determining the letter grade based on the grading scheme\n",
        "if 90 <= cls_score <= 100:\n",
        "    grade = 'A'\n",
        "elif 80 <= cls_score < 90:\n",
        "    grade = 'B'\n",
        "elif 70 <= cls_score < 80:\n",
        "    grade = 'C'\n",
        "elif 60 <= cls_score < 70:\n",
        "    grade = 'D'\n",
        "else:\n",
        "    grade = 'F'\n",
        "\n",
        "# Print the letter grade\n",
        "print(f\"The grade {cls_score} is: {grade}\")"
      ],
      "metadata": {
        "colab": {
          "base_uri": "https://localhost:8080/"
        },
        "id": "2hvBWkswCMIq",
        "outputId": "486e99c6-f26c-4048-ab0c-82731c1a2e7f"
      },
      "execution_count": 4,
      "outputs": [
        {
          "output_type": "stream",
          "name": "stdout",
          "text": [
            "Enter class score: 85\n",
            "The grade 85.0 is: B\n"
          ]
        }
      ]
    }
  ]
}